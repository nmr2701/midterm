{
 "cells": [
  {
   "cell_type": "markdown",
   "metadata": {},
   "source": [
    "# Libraries"
   ]
  },
  {
   "cell_type": "code",
   "execution_count": 1,
   "metadata": {},
   "outputs": [
    {
     "name": "stderr",
     "output_type": "stream",
     "text": [
      "[nltk_data] Downloading package averaged_perceptron_tagger to\n",
      "[nltk_data]     /Users/nikhilramchandani/nltk_data...\n",
      "[nltk_data]   Package averaged_perceptron_tagger is already up-to-\n",
      "[nltk_data]       date!\n",
      "[nltk_data] Downloading package punkt to\n",
      "[nltk_data]     /Users/nikhilramchandani/nltk_data...\n",
      "[nltk_data]   Package punkt is already up-to-date!\n",
      "[nltk_data] Downloading package punkt_tab to\n",
      "[nltk_data]     /Users/nikhilramchandani/nltk_data...\n",
      "[nltk_data]   Package punkt_tab is already up-to-date!\n",
      "[nltk_data] Downloading package vader_lexicon to\n",
      "[nltk_data]     /Users/nikhilramchandani/nltk_data...\n",
      "[nltk_data]   Package vader_lexicon is already up-to-date!\n",
      "[nltk_data] Downloading package averaged_perceptron_tagger_eng to\n",
      "[nltk_data]     /Users/nikhilramchandani/nltk_data...\n",
      "[nltk_data]   Package averaged_perceptron_tagger_eng is already up-to-\n",
      "[nltk_data]       date!\n"
     ]
    }
   ],
   "source": [
    "import pickle\n",
    "import pandas as pd\n",
    "import seaborn as sns\n",
    "from os.path import exists\n",
    "import matplotlib.pyplot as plt\n",
    "from sklearn.neighbors import KNeighborsClassifier\n",
    "from sklearn.model_selection import train_test_split\n",
    "from sklearn.metrics import accuracy_score, confusion_matrix\n",
    "from nltk.stem import PorterStemmer\n",
    "from sklearn.feature_extraction.text import TfidfVectorizer\n",
    "from sklearn.ensemble import RandomForestClassifier\n",
    "import datetime\n",
    "from sklearn.metrics.pairwise import cosine_similarity\n",
    "from sklearn.feature_extraction.text import TfidfVectorizer\n",
    "from nltk.sentiment import SentimentIntensityAnalyzer  # Import VADER\n",
    "import re\n",
    "import textstat\n",
    "import nltk\n",
    "nltk.download('averaged_perceptron_tagger')\n",
    "nltk.download('punkt')\n",
    "nltk.download('punkt_tab')\n",
    "nltk.download('vader_lexicon')\n",
    "nltk.download('averaged_perceptron_tagger_eng')\n",
    "\n",
    "from sklearn.svm import SVC\n",
    "from sklearn.model_selection import GridSearchCV\n",
    "import pickle\n",
    "\n",
    "import numpy as np\n",
    "\n",
    "\n",
    "\n",
    "\n"
   ]
  },
  {
   "cell_type": "markdown",
   "metadata": {},
   "source": [
    "# Loading the Files\n",
    "\n",
    "Download the csv files into the `data/` directory."
   ]
  },
  {
   "cell_type": "code",
   "execution_count": 2,
   "metadata": {},
   "outputs": [
    {
     "name": "stdout",
     "output_type": "stream",
     "text": [
      "train.csv shape is  (1697533, 9)\n",
      "test.csv shape is  (212192, 2)\n",
      "\n",
      "\n",
      "\n",
      "                 Id  HelpfulnessNumerator  HelpfulnessDenominator  \\\n",
      "count  1.697533e+06          1.697533e+06            1.697533e+06   \n",
      "mean   8.487660e+05          3.569048e+00            5.301422e+00   \n",
      "std    4.900357e+05          1.727883e+01            2.024445e+01   \n",
      "min    0.000000e+00          0.000000e+00            0.000000e+00   \n",
      "25%    4.243830e+05          0.000000e+00            0.000000e+00   \n",
      "50%    8.487660e+05          1.000000e+00            1.000000e+00   \n",
      "75%    1.273149e+06          3.000000e+00            5.000000e+00   \n",
      "max    1.697532e+06          6.084000e+03            6.510000e+03   \n",
      "\n",
      "               Time         Score  \n",
      "count  1.697533e+06  1.485341e+06  \n",
      "mean   1.262422e+09  4.110517e+00  \n",
      "std    1.289277e+08  1.197651e+00  \n",
      "min    8.793792e+08  1.000000e+00  \n",
      "25%    1.164413e+09  4.000000e+00  \n",
      "50%    1.307491e+09  5.000000e+00  \n",
      "75%    1.373242e+09  5.000000e+00  \n",
      "max    1.406074e+09  5.000000e+00  \n",
      "Score\n",
      "5.0    793163\n",
      "4.0    335228\n",
      "3.0    176082\n",
      "1.0     91190\n",
      "2.0     89678\n",
      "Name: count, dtype: int64\n"
     ]
    },
    {
     "data": {
      "image/png": "[encoded data removed]",
      "text/plain": [
       "<Figure size 640x480 with 1 Axes>"
      ]
     },
     "metadata": {},
     "output_type": "display_data"
    },
    {
     "name": "stdout",
     "output_type": "stream",
     "text": [
      "\n",
      "EVERYTHING IS PROPERLY SET UP! YOU ARE READY TO START\n"
     ]
    }
   ],
   "source": [
    "trainingSet = pd.read_csv(\"./data/train.csv\")\n",
    "testingSet = pd.read_csv(\"./data/test.csv\")\n",
    "\n",
    "print(\"train.csv shape is \", trainingSet.shape)\n",
    "print(\"test.csv shape is \", testingSet.shape)\n",
    "\n",
    "print()\n",
    "\n",
    "# print(trainingSet.head())\n",
    "print()\n",
    "# print(testingSet.head())\n",
    "\n",
    "print()\n",
    "\n",
    "print(trainingSet.describe())\n",
    "\n",
    "trainingSet['Score'].value_counts().plot(kind='bar', legend=True, alpha=.5)\n",
    "print(trainingSet[\"Score\"].value_counts())\n",
    "plt.show()\n",
    "\n",
    "print()\n",
    "print(\"EVERYTHING IS PROPERLY SET UP! YOU ARE READY TO START\")"
   ]
  },
  {
   "cell_type": "code",
   "execution_count": null,
   "metadata": {},
   "outputs": [],
   "source": []
  },
  {
   "cell_type": "markdown",
   "metadata": {},
   "source": [
    "# Adding Features"
   ]
  },
  {
   "cell_type": "code",
   "execution_count": 3,
   "metadata": {},
   "outputs": [],
   "source": [
    "def add_features_to(df):\n",
    "    # This is where you can do all your feature extraction\n",
    "\n",
    "    df['Helpfulness'] = df['HelpfulnessNumerator'] / df['HelpfulnessDenominator']\n",
    "    df['Helpfulness'] = df['Helpfulness'].fillna(0)\n",
    "\n",
    "\n",
    "    df = add_time_features(df)\n",
    "    df = add_text_length_features(df)\n",
    "    df = add_summary_length_features(df)\n",
    "    df = add_helpfulness_ratio(df)\n",
    "    df = add_sentiment_features(df)\n",
    "    df = add_pos_features(df)\n",
    "    df = add_recency_feature(df)\n",
    "    df = add_summary_text_similarity(df)\n",
    "    df = add_readability_feature(df)\n",
    "    df = add_sentence_length_feature(df)\n",
    "    df = add_average_user_score(df)\n",
    "    df = add_average_product_score(df)\n",
    "\n",
    "    return df\n",
    "\n",
    "def handle_missing_values(df):\n",
    "    # Fill missing values with the median of the column\n",
    "    df['Text'] = df['Text'].fillna('')\n",
    "    df['Summary'] = df['Summary'].fillna('')\n",
    "    return df\n",
    "\n",
    "\n",
    "\n",
    "def add_time_features(df):\n",
    "    df['Time'] = pd.to_datetime(df['Time'], unit='s')\n",
    "    df['Year'] = df['Time'].dt.year\n",
    "    df['Month'] = df['Time'].dt.month\n",
    "    df['Day'] = df['Time'].dt.day\n",
    "    df['DayOfWeek'] = df['Time'].dt.dayofweek\n",
    "    return df\n",
    "\n",
    "\n",
    "def add_text_length_features(df):\n",
    "    df['TextLength'] = df['Text'].apply(lambda x: len(x.split()) if isinstance(x, str) else 0)  # Word Count\n",
    "    df['TextCharCount'] = df['Text'].apply(lambda x: len(x) if isinstance(x, str) else 0)  # Character Count\n",
    "    df['TextPunctCount'] = df['Text'].apply(lambda x: sum(1 for char in x if char in ['!', '?', '.', ',', ';', ':', '-', '(', ')']) if isinstance(x, str) else 0)  # Punctuation Count\n",
    "    df['TextUpperCount'] = df['Text'].apply(lambda x: sum(1 for char in x if char.isupper()) if isinstance(x, str) else 0)  # Uppercase Count\n",
    "    df['TextLowerCount'] = df['Text'].apply(lambda x: sum(1 for char in x if char.islower()) if isinstance(x, str) else 0)  # Lowercase Count\n",
    "    return df\n",
    "\n",
    "def add_summary_length_features(df):\n",
    "    df['SummaryLength'] = df['Summary'].apply(lambda x: len(x.split()) if isinstance(x, str) else 0)  # Word Count\n",
    "    df['SummaryCharCount'] = df['Summary'].apply(lambda x: len(x) if isinstance(x, str) else 0)  # Character Count\n",
    "    df['SummaryPunctCount'] = df['Summary'].apply(lambda x: sum(1 for char in x if char in ['!', '?', '.', ',', ';', ':', '-', '(', ')']) if isinstance(x, str) else 0)  # Punctuation Count\n",
    "    df['SummaryUpperCount'] = df['Summary'].apply(lambda x: sum(1 for char in x if char.isupper()) if isinstance(x, str) else 0)  # Uppercase Count\n",
    "    df['SummaryLowerCount'] = df['Summary'].apply(lambda x: sum(1 for char in x if char.islower()) if isinstance(x, str) else 0)  # Lowercase Count\n",
    "    return df\n",
    "\n",
    "def add_helpfulness_ratio(df):\n",
    "    df['HelpfulnessTextLengthRatio'] = df['Helpfulness'] / (df['TextLength'] + 1)\n",
    "    df['HelpfulnessSummaryLengthRatio'] = df['Helpfulness'] / (df['SummaryLength'] + 1)\n",
    "    return df\n",
    "\n",
    "\n",
    "def add_sentiment_features(df):\n",
    "    sia = SentimentIntensityAnalyzer()\n",
    "    # Use VADER for sentiment analysis\n",
    "    df['TextSentiment'] = df['Text'].apply(lambda x: sia.polarity_scores(x)['compound'] if isinstance(x, str) else 0)\n",
    "    df['SummarySentiment'] = df['Summary'].apply(lambda x: sia.polarity_scores(x)['compound'] if isinstance(x, str) else 0)\n",
    "    return df\n",
    "\n",
    "\n",
    "def count_pos_tags(text):\n",
    "    tokens = nltk.word_tokenize(text)\n",
    "    pos_tags = nltk.pos_tag(tokens)\n",
    "    pos_count = {'nouns': 0, 'verbs': 0, 'adjectives': 0, 'adverbs': 0}\n",
    "    for word, pos in pos_tags:\n",
    "        if pos.startswith('N'): pos_count['nouns'] += 1\n",
    "        elif pos.startswith('V'): pos_count['verbs'] += 1\n",
    "        elif pos.startswith('J'): pos_count['adjectives'] += 1\n",
    "        elif pos.startswith('R'): pos_count['adverbs'] += 1\n",
    "    return pos_count\n",
    "\n",
    "def add_pos_features(df):\n",
    "    pos_features = df['Text'].apply(lambda x: count_pos_tags(x) if isinstance(x, str) else {'nouns': 0, 'verbs': 0, 'adjectives': 0, 'adverbs': 0})\n",
    "    df['NounCount'] = pos_features.apply(lambda x: x['nouns'])\n",
    "    df['VerbCount'] = pos_features.apply(lambda x: x['verbs'])\n",
    "    df['AdjectiveCount'] = pos_features.apply(lambda x: x['adjectives'])\n",
    "    df['AdverbCount'] = pos_features.apply(lambda x: x['adverbs'])\n",
    "    return df\n",
    "\n",
    "\n",
    "def add_recency_feature(df):\n",
    "    current_time = pd.Timestamp(datetime.datetime.now())\n",
    "    df['Recency'] = (current_time - df['Time']).dt.days\n",
    "    return df\n",
    "\n",
    "def add_summary_text_similarity(df):\n",
    "    vectorizer = TfidfVectorizer()\n",
    "    text_tfidf = vectorizer.fit_transform(df['Text'].fillna(''))\n",
    "    summary_tfidf = vectorizer.transform(df['Summary'].fillna(''))\n",
    "    \n",
    "    similarity = []\n",
    "    for i in range(len(df)):\n",
    "        if text_tfidf[i].nnz > 0 and summary_tfidf[i].nnz > 0:  # Check non-zero vector\n",
    "            similarity.append(cosine_similarity(text_tfidf[i], summary_tfidf[i])[0][0])\n",
    "        else:\n",
    "            similarity.append(0)  # No similarity for empty or non-representative text\n",
    "    df['TextSummarySimilarity'] = similarity\n",
    "    return df\n",
    "\n",
    "\n",
    "def add_readability_feature(df):\n",
    "    df['TextReadability'] = df['Text'].apply(lambda x: textstat.flesch_kincaid_grade(x) if isinstance(x, str) else 0)\n",
    "    df['SummaryReadability'] = df['Summary'].apply(lambda x: textstat.flesch_kincaid_grade(x) if isinstance(x, str) else 0)\n",
    "    return df\n",
    "\n",
    "\n",
    "def average_sentence_length(text):\n",
    "    sentences = re.split(r'[.!?]+', text) if isinstance(text, str) else []\n",
    "    num_sentences = len(sentences)\n",
    "    total_words = len(text.split()) if isinstance(text, str) else 0\n",
    "    return total_words / num_sentences if num_sentences > 0 else 0\n",
    "\n",
    "def add_sentence_length_feature(df):\n",
    "    df['AvgSentenceLengthText'] = df['Text'].apply(lambda x: average_sentence_length(x))\n",
    "    df['AvgSentenceLengthSummary'] = df['Summary'].apply(lambda x: average_sentence_length(x))\n",
    "    return df\n",
    "\n",
    "def add_average_user_score(df):\n",
    "    # Calculate average user score based on the first 1,114,005 rows\n",
    "    avg_user_scores = df.iloc[:1114005].groupby('UserId')['Score'].mean()\n",
    "    df['AvgUserScore'] = df['UserId'].map(avg_user_scores)\n",
    "    df['AvgUserScore'] = df['AvgUserScore'].where(df['UserId'].isin(avg_user_scores.index), np.nan) \n",
    "    return df\n",
    "\n",
    "def add_average_product_score(df):\n",
    "    # Calculate average product score based on the first 1,114,005 rows\n",
    "    avg_product_scores = df.iloc[:1114005].groupby('ProductId')['Score'].mean()\n",
    "    df['AvgProductScore'] = df['ProductId'].map(avg_product_scores)\n",
    "    df['AvgProductScore'] = df['AvgProductScore'].where(df['ProductId'].isin(avg_product_scores.index), np.nan) \n",
    "    return df\n",
    "\n",
    "def text_clean(df):\n",
    "    df['Text'] = df['Text'].str.lower()  # Convert to lowercase\n",
    "    df['Summary'] = df['Summary'].str.lower()  # Convert to lowercase\n",
    "\n",
    "    # Remove stopwords, special characters, and punctuation\n",
    "    stopwords = set(['the', 'and', 'is', 'to', 'in', 'that', 'it', 'of', 'for', 'on', 'with'])  # Add more stopwords as needed\n",
    "    df['Text'] = df['Text'].apply(lambda x: ' '.join([word for word in str(x).split() if word not in stopwords and word.isalnum()]))  # Remove stopwords and punctuation\n",
    "    df['Summary'] = df['Summary'].apply(lambda x: ' '.join([word for word in str(x).split() if word not in stopwords and word.isalnum()]))  # Remove stopwords and punctuation\n",
    "\n",
    "    # Stemming\n",
    "    stemmer = PorterStemmer()\n",
    "    df['Text'] = df['Text'].apply(lambda x: ' '.join([stemmer.stem(word) for word in str(x).split()]))  # Stemming\n",
    "    df['Summary'] = df['Summary'].apply(lambda x: ' '.join([stemmer.stem(word) for word in str(x).split()]))  # Stemming\n",
    "\n",
    "    # Text Feature Transformation using TF-IDF\n",
    "    tfidf_vectorizer = TfidfVectorizer(max_features=1000)  # Adjust max_features as needed\n",
    "    tfidf_matrix = tfidf_vectorizer.fit_transform(df['Text']).toarray()\n",
    "    tfidf_df = pd.DataFrame(tfidf_matrix, columns=tfidf_vectorizer.get_feature_names_out())\n",
    "    \n",
    "    # Concatenate TF-IDF features with the original DataFrame\n",
    "    df = pd.concat([df.reset_index(drop=True), tfidf_df.reset_index(drop=True)], axis=1)\n",
    "\n",
    "\n",
    "    return df\n",
    "# Load the feature extracted files if they've already been generated\n",
    "if exists('./data/X_train.csv'):\n",
    "    X_train = pd.read_csv(\"./data/X_train.csv\")\n",
    "if exists('./data/X_submission.csv'):\n",
    "    X_submission = pd.read_csv(\"./data/X_submission.csv\")\n",
    "\n",
    "else:\n",
    "    # Process the DataFrame\n",
    "    train = add_features_to(trainingSet)\n",
    "    train = text_clean(train)\n",
    "\n",
    "    score_avg = train['Score'].iloc[:1114005].mean()\n",
    "    train['AvgProductScore'].fillna(score_avg, inplace=True)\n",
    "    train['AvgUserScore'].fillna(score_avg, inplace=True)\n",
    "\n",
    "\n",
    "    # Merge on Id so that the submission set can have feature columns as well\n",
    "    X_submission = pd.merge(train, testingSet, left_on='Id', right_on='Id')\n",
    "    X_submission = X_submission.drop(columns=['Score_x'])\n",
    "    X_submission = X_submission.rename(columns={'Score_y': 'Score'})\n",
    "\n",
    "    # The training set is where the score is not null\n",
    "    X_train =  train[train['Score'].notnull()]\n",
    "\n",
    "    X_submission.to_csv(\"./data/X_submission.csv\", index=False)\n",
    "    X_train.to_csv(\"./data/X_train.csv\", index=False)\n",
    "\n"
   ]
  },
  {
   "cell_type": "markdown",
   "metadata": {},
   "source": [
    "## Adding After establishing X_train and X_submission\n"
   ]
  },
  {
   "cell_type": "code",
   "execution_count": 4,
   "metadata": {},
   "outputs": [],
   "source": [
    "\n",
    "# Calculate review counts for the first 1,114,005 rows of the training set\n",
    "user_review_counts = trainingSet.iloc[:1114005]['UserId'].value_counts()\n",
    "product_review_counts = trainingSet.iloc[:1114005]['ProductId'].value_counts()\n",
    "\n",
    "# Add UserReviewCount to X_train\n",
    "X_train['UserReviewCount'] = X_train['UserId'].map(user_review_counts)\n",
    "\n",
    "# Add ProductReviewCount to X_train\n",
    "X_train['ProductReviewCount'] = X_train['ProductId'].map(product_review_counts)\n",
    "\n",
    "# Add UserReviewCount to X_submission\n",
    "X_submission['UserReviewCount'] = X_submission['UserId'].map(user_review_counts)\n",
    "\n",
    "# Add ProductReviewCount to X_submission\n",
    "X_submission['ProductReviewCount'] = X_submission['ProductId'].map(product_review_counts)"
   ]
  },
  {
   "cell_type": "code",
   "execution_count": 5,
   "metadata": {},
   "outputs": [
    {
     "name": "stderr",
     "output_type": "stream",
     "text": [
      "/var/folders/dk/vyk6_yxx6rx4y27dlhv_cvq80000gn/T/ipykernel_41705/3777632517.py:1: FutureWarning: A value is trying to be set on a copy of a DataFrame or Series through chained assignment using an inplace method.\n",
      "The behavior will change in pandas 3.0. This inplace method will never work because the intermediate object on which we are setting values always behaves as a copy.\n",
      "\n",
      "For example, when doing 'df[col].method(value, inplace=True)', try using 'df.method({col: value}, inplace=True)' or df[col] = df[col].method(value) instead, to perform the operation inplace on the original object.\n",
      "\n",
      "\n",
      "  X_train['ProductReviewCount'].fillna(0, inplace=True)\n",
      "/var/folders/dk/vyk6_yxx6rx4y27dlhv_cvq80000gn/T/ipykernel_41705/3777632517.py:2: FutureWarning: A value is trying to be set on a copy of a DataFrame or Series through chained assignment using an inplace method.\n",
      "The behavior will change in pandas 3.0. This inplace method will never work because the intermediate object on which we are setting values always behaves as a copy.\n",
      "\n",
      "For example, when doing 'df[col].method(value, inplace=True)', try using 'df.method({col: value}, inplace=True)' or df[col] = df[col].method(value) instead, to perform the operation inplace on the original object.\n",
      "\n",
      "\n",
      "  X_train['UserReviewCount'].fillna(0, inplace=True)\n",
      "/var/folders/dk/vyk6_yxx6rx4y27dlhv_cvq80000gn/T/ipykernel_41705/3777632517.py:4: FutureWarning: A value is trying to be set on a copy of a DataFrame or Series through chained assignment using an inplace method.\n",
      "The behavior will change in pandas 3.0. This inplace method will never work because the intermediate object on which we are setting values always behaves as a copy.\n",
      "\n",
      "For example, when doing 'df[col].method(value, inplace=True)', try using 'df.method({col: value}, inplace=True)' or df[col] = df[col].method(value) instead, to perform the operation inplace on the original object.\n",
      "\n",
      "\n",
      "  X_submission['ProductReviewCount'].fillna(0, inplace=True)\n",
      "/var/folders/dk/vyk6_yxx6rx4y27dlhv_cvq80000gn/T/ipykernel_41705/3777632517.py:5: FutureWarning: A value is trying to be set on a copy of a DataFrame or Series through chained assignment using an inplace method.\n",
      "The behavior will change in pandas 3.0. This inplace method will never work because the intermediate object on which we are setting values always behaves as a copy.\n",
      "\n",
      "For example, when doing 'df[col].method(value, inplace=True)', try using 'df.method({col: value}, inplace=True)' or df[col] = df[col].method(value) instead, to perform the operation inplace on the original object.\n",
      "\n",
      "\n",
      "  X_submission['UserReviewCount'].fillna(0, inplace=True)\n"
     ]
    }
   ],
   "source": [
    "X_train['ProductReviewCount'].fillna(0, inplace=True)\n",
    "X_train['UserReviewCount'].fillna(0, inplace=True)\n",
    "\n",
    "X_submission['ProductReviewCount'].fillna(0, inplace=True)\n",
    "X_submission['UserReviewCount'].fillna(0, inplace=True)"
   ]
  },
  {
   "cell_type": "code",
   "execution_count": 6,
   "metadata": {},
   "outputs": [],
   "source": [
    "# Add HelpfulnessDifference to X_train\n",
    "X_train['HelpfulnessDifference'] = X_train['HelpfulnessDenominator'] - X_train['HelpfulnessNumerator']\n",
    "\n",
    "\n",
    "# Add HelpfulnessDifference to X_submission\n",
    "X_submission['HelpfulnessDifference'] = X_submission['HelpfulnessDenominator'] - X_submission['HelpfulnessNumerator']\n"
   ]
  },
  {
   "cell_type": "code",
   "execution_count": 7,
   "metadata": {},
   "outputs": [],
   "source": [
    "# Calculate the number of exclamation marks in the Text and Summary columns\n",
    "trainingSet['ExclamationCountText'] = trainingSet['Text'].apply(lambda x: x.count('!') if isinstance(x, str) else 0)\n",
    "trainingSet['ExclamationCountSummary'] = trainingSet['Summary'].apply(lambda x: x.count('!') if isinstance(x, str) else 0)\n",
    "\n",
    "# Add ExclamationCountText to X_train\n",
    "X_train['ExclamationCountText'] = X_train['Id'].map(trainingSet.set_index('Id')['ExclamationCountText'])\n",
    "\n",
    "# Add ExclamationCountSummary to X_train\n",
    "X_train['ExclamationCountSummary'] = X_train['Id'].map(trainingSet.set_index('Id')['ExclamationCountSummary'])\n",
    "\n",
    "# Add ExclamationCountText to X_submission\n",
    "X_submission['ExclamationCountText'] = X_submission['Id'].map(trainingSet.set_index('Id')['ExclamationCountText'])\n",
    "\n",
    "# Add ExclamationCountSummary to X_submission\n",
    "X_submission['ExclamationCountSummary'] = X_submission['Id'].map(trainingSet.set_index('Id')['ExclamationCountSummary'])\n"
   ]
  },
  {
   "cell_type": "code",
   "execution_count": 8,
   "metadata": {},
   "outputs": [
    {
     "name": "stderr",
     "output_type": "stream",
     "text": [
      "/var/folders/dk/vyk6_yxx6rx4y27dlhv_cvq80000gn/T/ipykernel_41705/3393090663.py:17: FutureWarning: A value is trying to be set on a copy of a DataFrame or Series through chained assignment using an inplace method.\n",
      "The behavior will change in pandas 3.0. This inplace method will never work because the intermediate object on which we are setting values always behaves as a copy.\n",
      "\n",
      "For example, when doing 'df[col].method(value, inplace=True)', try using 'df.method({col: value}, inplace=True)' or df[col] = df[col].method(value) instead, to perform the operation inplace on the original object.\n",
      "\n",
      "\n",
      "  X_train['UserScoreVariance'].fillna(0, inplace=True)\n",
      "/var/folders/dk/vyk6_yxx6rx4y27dlhv_cvq80000gn/T/ipykernel_41705/3393090663.py:18: FutureWarning: A value is trying to be set on a copy of a DataFrame or Series through chained assignment using an inplace method.\n",
      "The behavior will change in pandas 3.0. This inplace method will never work because the intermediate object on which we are setting values always behaves as a copy.\n",
      "\n",
      "For example, when doing 'df[col].method(value, inplace=True)', try using 'df.method({col: value}, inplace=True)' or df[col] = df[col].method(value) instead, to perform the operation inplace on the original object.\n",
      "\n",
      "\n",
      "  X_train['ProductScoreVariance'].fillna(0, inplace=True)\n",
      "/var/folders/dk/vyk6_yxx6rx4y27dlhv_cvq80000gn/T/ipykernel_41705/3393090663.py:20: FutureWarning: A value is trying to be set on a copy of a DataFrame or Series through chained assignment using an inplace method.\n",
      "The behavior will change in pandas 3.0. This inplace method will never work because the intermediate object on which we are setting values always behaves as a copy.\n",
      "\n",
      "For example, when doing 'df[col].method(value, inplace=True)', try using 'df.method({col: value}, inplace=True)' or df[col] = df[col].method(value) instead, to perform the operation inplace on the original object.\n",
      "\n",
      "\n",
      "  X_submission['UserScoreVariance'].fillna(0, inplace=True)\n",
      "/var/folders/dk/vyk6_yxx6rx4y27dlhv_cvq80000gn/T/ipykernel_41705/3393090663.py:21: FutureWarning: A value is trying to be set on a copy of a DataFrame or Series through chained assignment using an inplace method.\n",
      "The behavior will change in pandas 3.0. This inplace method will never work because the intermediate object on which we are setting values always behaves as a copy.\n",
      "\n",
      "For example, when doing 'df[col].method(value, inplace=True)', try using 'df.method({col: value}, inplace=True)' or df[col] = df[col].method(value) instead, to perform the operation inplace on the original object.\n",
      "\n",
      "\n",
      "  X_submission['ProductScoreVariance'].fillna(0, inplace=True)\n"
     ]
    }
   ],
   "source": [
    "# Calculate variance of scores based on UserId and ProductId for the first 1,114,005 rows\n",
    "user_variance = trainingSet.iloc[:1114005].groupby('UserId')['Score'].var()\n",
    "product_variance = trainingSet.iloc[:1114005].groupby('ProductId')['Score'].var()\n",
    "\n",
    "# Add UserScoreVariance to X_train\n",
    "X_train['UserScoreVariance'] = X_train['UserId'].map(user_variance)\n",
    "\n",
    "# Add ProductScoreVariance to X_train\n",
    "X_train['ProductScoreVariance'] = X_train['ProductId'].map(product_variance)\n",
    "\n",
    "# Add UserScoreVariance to X_submission\n",
    "X_submission['UserScoreVariance'] = X_submission['UserId'].map(user_variance)\n",
    "\n",
    "# Add ProductScoreVariance to X_submission\n",
    "X_submission['ProductScoreVariance'] = X_submission['ProductId'].map(product_variance)\n",
    "\n",
    "X_train['UserScoreVariance'].fillna(0, inplace=True)\n",
    "X_train['ProductScoreVariance'].fillna(0, inplace=True)\n",
    "\n",
    "X_submission['UserScoreVariance'].fillna(0, inplace=True)\n",
    "X_submission['ProductScoreVariance'].fillna(0, inplace=True)\n"
   ]
  },
  {
   "cell_type": "markdown",
   "metadata": {},
   "source": [
    "# Check Data"
   ]
  },
  {
   "cell_type": "code",
   "execution_count": 9,
   "metadata": {},
   "outputs": [
    {
     "name": "stdout",
     "output_type": "stream",
     "text": [
      "['Summary', 'Text']\n"
     ]
    }
   ],
   "source": [
    "nan_columns = X_train.columns[X_train.isna().any()].tolist()\n",
    "print(nan_columns)"
   ]
  },
  {
   "cell_type": "code",
   "execution_count": 10,
   "metadata": {},
   "outputs": [
    {
     "name": "stdout",
     "output_type": "stream",
     "text": [
      "['Summary', 'Text', 'Score']\n"
     ]
    }
   ],
   "source": [
    "nan_columns = X_submission.columns[X_submission.isna().any()].tolist()\n",
    "print(nan_columns)"
   ]
  },
  {
   "cell_type": "code",
   "execution_count": null,
   "metadata": {},
   "outputs": [],
   "source": [
    "average_product_scores = {}\n",
    "average_user_scores = {}\n",
    "\n",
    "for row in X_train.iterrows():\n",
    "    if row[1]['ProductId'] not in average_product_scores:\n",
    "        average_product_scores[row[1]['ProductId']] = row[1]['AvgProductScore']\n",
    "    elif average_product_scores[row[1]['ProductId']] != row[1]['AvgProductScore']:\n",
    "        print('Different average product scores for the same product')\n",
    "    if row[1]['UserId'] not in average_user_scores:\n",
    "        average_user_scores[row[1]['UserId']] = row[1]['AvgUserScore']\n",
    "    elif average_user_scores[row[1]['UserId']] != row[1]['AvgUserScore']:\n",
    "        print('Different average user scores for the same user')\n",
    "\n",
    "    \n",
    "    "
   ]
  },
  {
   "cell_type": "code",
   "execution_count": 8,
   "metadata": {},
   "outputs": [],
   "source": [
    "global_avg_set = set()\n",
    "for row in X_submission.iterrows():\n",
    "    if row[1]['ProductId'] not in average_product_scores:\n",
    "        global_avg_set.add(row[1]['AvgProductScore'])\n",
    "    elif average_product_scores[row[1]['ProductId']] != row[1]['AvgProductScore']:\n",
    "        print('Different average product scores for the same product')\n",
    "    if row[1]['UserId'] not in average_user_scores:\n",
    "        global_avg_set.add(row[1]['AvgUserScore'])\n",
    "    elif average_user_scores[row[1]['UserId']] != row[1]['AvgUserScore']:\n",
    "        print('Different average user scores for the same user')"
   ]
  },
  {
   "cell_type": "code",
   "execution_count": null,
   "metadata": {},
   "outputs": [],
   "source": [
    "print(len(global_avg_set))"
   ]
  },
  {
   "cell_type": "markdown",
   "metadata": {},
   "source": [
    "# Practice Models"
   ]
  },
  {
   "cell_type": "code",
   "execution_count": 12,
   "metadata": {},
   "outputs": [],
   "source": [
    "# train_size = 200000\n",
    "# global_avg = 4.111444742169021\n",
    "\n",
    "# average_product_scores = {}\n",
    "# average_user_scores = {}\n",
    "\n",
    "# for index, row in X_train[:int(train_size * 0.75)].iterrows():\n",
    "#     if row['ProductId'] not in average_product_scores:\n",
    "#         average_product_scores[row['ProductId']] = row['AvgProductScore']\n",
    "#     if row['UserId'] not in average_user_scores:\n",
    "#         average_user_scores[row['UserId']] = row['AvgUserScore']\n",
    "\n",
    "# for index, row in X_train[int(train_size * 0.75):train_size].iterrows():\n",
    "#     if row['ProductId'] in average_product_scores:\n",
    "#         X_train.loc[index, 'AvgProductScore'] = average_product_scores[row['ProductId']]\n",
    "#     else:\n",
    "#         X_train.loc[index, 'AvgProductScore'] = global_avg\n",
    "#     if row['UserId'] in average_user_scores:\n",
    "#         X_train.loc[index, 'AvgUserScore'] = average_user_scores[row['UserId']]\n",
    "#     else:\n",
    "#         X_train.loc[index, 'AvgUserScore'] = global_avg"
   ]
  },
  {
   "cell_type": "markdown",
   "metadata": {},
   "source": [
    "# Train with an imbalance"
   ]
  },
  {
   "cell_type": "code",
   "execution_count": null,
   "metadata": {},
   "outputs": [],
   "source": [
    "# minimum number of reviews for a rating\n"
   ]
  },
  {
   "cell_type": "markdown",
   "metadata": {},
   "source": [
    "# Sample + Split into training and testing set"
   ]
  },
  {
   "cell_type": "code",
   "execution_count": 9,
   "metadata": {},
   "outputs": [
    {
     "name": "stdout",
     "output_type": "stream",
     "text": [
      "(1485335, 1047)\n"
     ]
    }
   ],
   "source": [
    "# Split training set into training and testing set\n",
    "\n",
    "X_train_subset = X_train\n",
    "X_train_subset = X_train_subset[(X_train_subset['Helpfulness'] >= 0) & (X_train_subset['Helpfulness'] <= 1)]\n",
    "print(X_train_subset.shape)\n",
    "X_train, X_test, Y_train, Y_test = train_test_split(\n",
    "    X_train_subset.drop(columns=['Score']),\n",
    "    X_train_subset['Score'],\n",
    "    test_size=1/4.0,\n",
    "    random_state=0\n",
    ")"
   ]
  },
  {
   "cell_type": "code",
   "execution_count": 11,
   "metadata": {},
   "outputs": [
    {
     "name": "stdout",
     "output_type": "stream",
     "text": [
      "(1114001, 1044)\n",
      "(371334, 1044)\n",
      "(1114001,)\n",
      "(371334,)\n"
     ]
    }
   ],
   "source": [
    "print(X_train.shape)\n",
    "print(X_test.shape)\n",
    "print(Y_train.shape)\n",
    "print(Y_test.shape)\n"
   ]
  },
  {
   "cell_type": "code",
   "execution_count": 12,
   "metadata": {},
   "outputs": [],
   "source": [
    "features = X_train.columns[X_train.columns != 'Score'].tolist()"
   ]
  },
  {
   "cell_type": "markdown",
   "metadata": {},
   "source": [
    "# Feature Selection"
   ]
  },
  {
   "cell_type": "code",
   "execution_count": 22,
   "metadata": {},
   "outputs": [
    {
     "name": "stdout",
     "output_type": "stream",
     "text": [
      "(1114001, 12)\n",
      "(371334, 12)\n",
      "(212192, 12)\n"
     ]
    }
   ],
   "source": [
    "non_numeric_columns = X_train.select_dtypes(exclude=['number']).columns.tolist()\n",
    "other_unwanted_columns = ['HelpfulnessNumerator', 'HelpfulnessDenominator']\n",
    "all_unwanted_columns = non_numeric_columns + other_unwanted_columns\n",
    "features = [col for col in X_train.columns if col != 'Score' and col not in all_unwanted_columns]  # Updated line\n",
    "features = ['TextSentiment', 'SummarySentiment','AvgProductScore', 'AvgUserScore','TextSummarySimilarity', 'TextReadability', 'SummaryReadability', 'AvgSentenceLengthText', 'AvgSentenceLengthSummary', 'NounCount', 'VerbCount', 'AdjectiveCount', 'AdverbCount', 'Recency', 'Helpfulness', 'HelpfulnessTextLengthRatio', 'HelpfulnessSummaryLengthRatio', 'HelpfulnessDifference', 'UserReviewCount', 'ProductReviewCount', 'Year', 'Month', 'Day', 'DayOfWeek', 'TextLength', 'TextCharCount', 'TextPunctCount', 'TextUpperCount', 'TextLowerCount', 'SummaryLength', 'SummaryCharCount', 'SummaryPunctCount', 'SummaryUpperCount', 'SummaryLowerCount','ExclamationCountSummary','ExclamationCountText', 'UserScoreVariance', 'ProductScoreVariance']\n",
    "features = ['TextSentiment', 'SummarySentiment','AvgProductScore', 'AvgUserScore','TextSummarySimilarity', 'TextReadability', 'AvgSentenceLengthText', 'NounCount', 'VerbCount', 'AdverbCount', 'Recency', 'Helpfulness', 'HelpfulnessDifference', 'UserReviewCount', 'ProductReviewCount', 'TextLength', 'TextCharCount', 'TextUpperCount', 'TextLowerCount', 'SummaryCharCount', 'ExclamationCountText', 'ExclamationCountSummary', 'UserScoreVariance', 'ProductScoreVariance']\n",
    "features = ['TextSentiment', 'SummarySentiment','AvgProductScore', 'AvgUserScore', 'Recency', 'HelpfulnessDifference', 'UserReviewCount', 'ProductReviewCount',  'UserScoreVariance', 'ProductScoreVariance','AvgSentenceLengthText','SummaryCharCount']\n",
    "X_train_select = X_train[features]\n",
    "X_test_select = X_test[features]\n",
    "X_submission_select = X_submission[features]\n",
    "\n",
    "\n",
    "print(X_train_select.shape)\n",
    "print(X_test_select.shape)\n",
    "print(X_submission_select.shape)"
   ]
  },
  {
   "cell_type": "code",
   "execution_count": null,
   "metadata": {},
   "outputs": [],
   "source": []
  },
  {
   "cell_type": "code",
   "execution_count": 23,
   "metadata": {},
   "outputs": [],
   "source": [
    "# Train a Random Forest model\n",
    "rf_model = RandomForestClassifier(n_estimators=100,max_depth=20, random_state=0)\n",
    "rf_model.fit(X_train_select, Y_train)\n",
    "\n",
    "# Get feature importances\n",
    "importances = rf_model.feature_importances_\n",
    "\n",
    "# Create a DataFrame for visualization\n",
    "feature_importance_df = pd.DataFrame({\n",
    "    'Feature': features,\n",
    "    'Importance': importances\n",
    "}).sort_values(by='Importance', ascending=False)\n",
    "\n",
    "# Plot feature importances\n",
    "plt.figure(figsize=(10, 6))\n",
    "sns.barplot(x='Importance', y='Feature', data=feature_importance_df)\n",
    "plt.title('Feature Importance from Random Forest')\n",
    "plt.show()\n",
    "\n"
   ]
  },
  {
   "cell_type": "code",
   "execution_count": 18,
   "metadata": {},
   "outputs": [
    {
     "name": "stdout",
     "output_type": "stream",
     "text": [
      "                  Feature  Importance\n",
      "3            AvgUserScore    0.176985\n",
      "8       UserScoreVariance    0.138344\n",
      "2         AvgProductScore    0.124963\n",
      "1        SummarySentiment    0.074305\n",
      "0           TextSentiment    0.070607\n",
      "5   HelpfulnessDifference    0.065954\n",
      "9    ProductScoreVariance    0.065109\n",
      "4                 Recency    0.046314\n",
      "13         TextLowerCount    0.044493\n",
      "7      ProductReviewCount    0.040345\n",
      "10  AvgSentenceLengthText    0.040014\n",
      "11       SummaryCharCount    0.038050\n",
      "6         UserReviewCount    0.037907\n",
      "12        TextReadability    0.036611\n"
     ]
    }
   ],
   "source": [
    "print(feature_importance_df)"
   ]
  },
  {
   "cell_type": "code",
   "execution_count": 20,
   "metadata": {},
   "outputs": [
    {
     "name": "stdout",
     "output_type": "stream",
     "text": [
      "Accuracy on testing set =  0.6704018484706491\n"
     ]
    }
   ],
   "source": [
    "Y_test_predictions = rf_model.predict(X_test_select)\n",
    "print(\"Accuracy on testing set = \", accuracy_score(Y_test, Y_test_predictions))\n",
    "\n",
    "model = rf_model"
   ]
  },
  {
   "cell_type": "markdown",
   "metadata": {},
   "source": [
    "Accuracy on testing set =  0.6338713934086294\n",
    "Accuracy on testing set =  0.6348112480947072\n",
    "Accuracy on testing set =  0.6377762337949124\n",
    "Accuracy on testing set =  0.6374396096236811\n",
    "Accuracy on testing set =  0.6696693542740497\n",
    "Accuracy on testing set =  0.6711908955280153\n",
    "Accuracy on testing set =  0.671734880188725\n"
   ]
  },
  {
   "cell_type": "markdown",
   "metadata": {},
   "source": [
    "# Model Creation"
   ]
  },
  {
   "cell_type": "code",
   "execution_count": null,
   "metadata": {},
   "outputs": [],
   "source": [
    "# model = RandomForestClassifier(n_estimators=400, random_state=0).fit(X_train_select, Y_train)\n",
    "# Y_test_predictions = model.predict(X_test_select)\n",
    "# print(\"Accuracy on testing set = \", accuracy_score(Y_test, Y_test_predictions))\n",
    "\n",
    "# with open('./random_forest_model_all.pkl', 'wb') as file:\n",
    "#     pickle.dump(model, file)\n",
    "\n"
   ]
  },
  {
   "cell_type": "markdown",
   "metadata": {},
   "source": [
    "Accuracy on testing set =  0.62872"
   ]
  },
  {
   "cell_type": "markdown",
   "metadata": {},
   "source": [
    "# OLD Code"
   ]
  },
  {
   "cell_type": "code",
   "execution_count": null,
   "metadata": {},
   "outputs": [],
   "source": [
    "# # Define a function to train and evaluate models\n",
    "# def train_and_evaluate_models(X_train, Y_train, X_test, Y_test):\n",
    "#     models = {\n",
    "#         'RandomForest': RandomForestClassifier(),\n",
    "#         'KNN': KNeighborsClassifier(),\n",
    "#         'SVM': SVC()\n",
    "#     }\n",
    "    \n",
    "#     # Define parameter grids for each model\n",
    "#     param_grids = {\n",
    "#         'RandomForest': {\n",
    "#             'n_estimators': [200],\n",
    "#             'max_depth': [30]\n",
    "#         },\n",
    "#         'KNN': {\n",
    "#             'n_neighbors': [5, 100],\n",
    "#             'weights': ['uniform', 'distance']\n",
    "#         },\n",
    "#         'SVM': {\n",
    "#             'C': [1, 100],\n",
    "#             'kernel': ['linear', 'rbf']\n",
    "#         }\n",
    "#     }\n",
    "    \n",
    "#     best_models = {}\n",
    "#     best_scores = {}\n",
    "    \n",
    "#     for model_name, model in models.items():\n",
    "#         grid_search = GridSearchCV(model, param_grids[model_name], cv=5, scoring='accuracy')\n",
    "#         grid_search.fit(X_train, Y_train)\n",
    "        \n",
    "#         # Get the best model and score\n",
    "#         best_models[model_name] = grid_search.best_estimator_\n",
    "#         best_scores[model_name] = grid_search.best_score_\n",
    "        \n",
    "#         print(f\"Best model for {model_name}: {best_models[model_name]} with score: {best_scores[model_name]}\")\n",
    "        \n",
    "#         # Save the best model to a pickle file\n",
    "#         with open(f'./{model_name}_best_model.pkl', 'wb') as f:\n",
    "#             pickle.dump(best_models[model_name], f)\n",
    "\n",
    "#     return best_models\n",
    "\n",
    "# # Train and evaluate models\n",
    "# best_model = train_and_evaluate_models(X_train_select, Y_train, X_test_select, Y_test)\n",
    "\n",
    "# # Save the best model to a pickle file\n",
    "\n",
    "\n",
    "# print(\"Best model saved to best_model.pkl\")"
   ]
  },
  {
   "cell_type": "markdown",
   "metadata": {},
   "source": [
    "# Model Evaluation"
   ]
  },
  {
   "cell_type": "code",
   "execution_count": 32,
   "metadata": {},
   "outputs": [
    {
     "name": "stdout",
     "output_type": "stream",
     "text": [
      "Accuracy on testing set =  0.6707842535291678\n"
     ]
    },
    {
     "data": {
      "image/png": "[encoded data removed]",
      "text/plain": [
       "<Figure size 640x480 with 2 Axes>"
      ]
     },
     "metadata": {},
     "output_type": "display_data"
    }
   ],
   "source": [
    "# Evaluate your model on the testing set\n",
    "print(\"Accuracy on testing set = \", accuracy_score(Y_test, Y_test_predictions))\n",
    "\n",
    "# Plot a confusion matrix\n",
    "cm = confusion_matrix(Y_test, Y_test_predictions, normalize='true')\n",
    "sns.heatmap(cm, annot=True)\n",
    "plt.title('Confusion matrix of the classifier')\n",
    "plt.xlabel('Predicted')\n",
    "plt.ylabel('True')\n",
    "plt.show()"
   ]
  },
  {
   "cell_type": "markdown",
   "metadata": {},
   "source": [
    "# Create submission file"
   ]
  },
  {
   "cell_type": "code",
   "execution_count": 14,
   "metadata": {},
   "outputs": [],
   "source": [
    "# Create the submission file\n",
    "X_submission['Score'] = model.predict(X_submission_select)\n",
    "submission = X_submission[['Id', 'Score']]\n",
    "submission.to_csv(\"./data/submission.csv\", index=False)"
   ]
  },
  {
   "cell_type": "code",
   "execution_count": 21,
   "metadata": {},
   "outputs": [
    {
     "name": "stdout",
     "output_type": "stream",
     "text": [
      "Score\n",
      "5.0    134251\n",
      "4.0     41017\n",
      "3.0     17136\n",
      "1.0     12433\n",
      "2.0      7355\n",
      "Name: count, dtype: int64\n"
     ]
    }
   ],
   "source": [
    "score_counts = X_submission['Score'].value_counts()\n",
    "print(score_counts)"
   ]
  },
  {
   "cell_type": "code",
   "execution_count": null,
   "metadata": {},
   "outputs": [],
   "source": []
  }
 ],
 "metadata": {
  "kernelspec": {
   "display_name": "env",
   "language": "python",
   "name": "python3"
  },
  "language_info": {
   "codemirror_mode": {
    "name": "ipython",
    "version": 3
   },
   "file_extension": ".py",
   "mimetype": "text/x-python",
   "name": "python",
   "nbconvert_exporter": "python",
   "pygments_lexer": "ipython3",
   "version": "3.11.10"
  }
 },
 "nbformat": 4,
 "nbformat_minor": 2
}
